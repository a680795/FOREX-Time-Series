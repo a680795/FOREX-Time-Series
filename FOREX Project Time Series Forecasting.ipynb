{
 "cells": [
  {
   "cell_type": "markdown",
   "metadata": {},
   "source": [
    "First we import packages for time series forecasting."
   ]
  },
  {
   "cell_type": "code",
   "execution_count": 1,
   "metadata": {},
   "outputs": [],
   "source": [
    "from datetime import datetime\n",
    "from forex_python.converter import get_rate\n",
    "from statsmodels.graphics.tsaplots import plot_acf\n",
    "from arch.unitroot import ADF\n",
    "from statsmodels.graphics.tsaplots import plot_pacf\n",
    "from statsmodels.stats.diagnostic import acorr_ljungbox\n",
    "from statsmodels.tsa.arima_model import ARIMA\n",
    "from sklearn.metrics import mean_squared_error\n",
    "import pandas as pd\n",
    "import seaborn as sn\n",
    "import matplotlib.pyplot as plt"
   ]
  },
  {
   "cell_type": "markdown",
   "metadata": {},
   "source": [
    "We read the EUR vs USD currency data into a dataframe."
   ]
  },
  {
   "cell_type": "code",
   "execution_count": 2,
   "metadata": {
    "scrolled": true
   },
   "outputs": [
    {
     "data": {
      "text/html": [
       "<div>\n",
       "<style scoped>\n",
       "    .dataframe tbody tr th:only-of-type {\n",
       "        vertical-align: middle;\n",
       "    }\n",
       "\n",
       "    .dataframe tbody tr th {\n",
       "        vertical-align: top;\n",
       "    }\n",
       "\n",
       "    .dataframe thead th {\n",
       "        text-align: right;\n",
       "    }\n",
       "</style>\n",
       "<table border=\"1\" class=\"dataframe\">\n",
       "  <thead>\n",
       "    <tr style=\"text-align: right;\">\n",
       "      <th></th>\n",
       "      <th>Unnamed: 0</th>\n",
       "      <th>Date</th>\n",
       "      <th>Time</th>\n",
       "      <th>Open</th>\n",
       "      <th>High</th>\n",
       "      <th>Low</th>\n",
       "      <th>Close</th>\n",
       "      <th>Volume</th>\n",
       "      <th>volume_adi</th>\n",
       "      <th>volume_obv</th>\n",
       "      <th>...</th>\n",
       "      <th>momentum_uo</th>\n",
       "      <th>momentum_stoch</th>\n",
       "      <th>momentum_stoch_signal</th>\n",
       "      <th>momentum_wr</th>\n",
       "      <th>momentum_ao</th>\n",
       "      <th>momentum_kama</th>\n",
       "      <th>momentum_roc</th>\n",
       "      <th>others_dr</th>\n",
       "      <th>others_dlr</th>\n",
       "      <th>others_cr</th>\n",
       "    </tr>\n",
       "  </thead>\n",
       "  <tbody>\n",
       "    <tr>\n",
       "      <th>0</th>\n",
       "      <td>0</td>\n",
       "      <td>1971.01.04</td>\n",
       "      <td>00:00</td>\n",
       "      <td>0.5369</td>\n",
       "      <td>0.5369</td>\n",
       "      <td>0.5369</td>\n",
       "      <td>0.5369</td>\n",
       "      <td>1</td>\n",
       "      <td>0.0</td>\n",
       "      <td>1</td>\n",
       "      <td>...</td>\n",
       "      <td>NaN</td>\n",
       "      <td>NaN</td>\n",
       "      <td>NaN</td>\n",
       "      <td>NaN</td>\n",
       "      <td>0.0</td>\n",
       "      <td>NaN</td>\n",
       "      <td>NaN</td>\n",
       "      <td>-49.990122</td>\n",
       "      <td>NaN</td>\n",
       "      <td>0.000000</td>\n",
       "    </tr>\n",
       "    <tr>\n",
       "      <th>1</th>\n",
       "      <td>1</td>\n",
       "      <td>1971.01.05</td>\n",
       "      <td>00:00</td>\n",
       "      <td>0.5366</td>\n",
       "      <td>0.5366</td>\n",
       "      <td>0.5366</td>\n",
       "      <td>0.5366</td>\n",
       "      <td>1</td>\n",
       "      <td>0.0</td>\n",
       "      <td>0</td>\n",
       "      <td>...</td>\n",
       "      <td>NaN</td>\n",
       "      <td>0.0</td>\n",
       "      <td>0.000000</td>\n",
       "      <td>-100.0</td>\n",
       "      <td>0.0</td>\n",
       "      <td>NaN</td>\n",
       "      <td>NaN</td>\n",
       "      <td>-0.055876</td>\n",
       "      <td>-0.055892</td>\n",
       "      <td>-0.055876</td>\n",
       "    </tr>\n",
       "    <tr>\n",
       "      <th>2</th>\n",
       "      <td>2</td>\n",
       "      <td>1971.01.06</td>\n",
       "      <td>00:00</td>\n",
       "      <td>0.5365</td>\n",
       "      <td>0.5365</td>\n",
       "      <td>0.5365</td>\n",
       "      <td>0.5365</td>\n",
       "      <td>1</td>\n",
       "      <td>0.0</td>\n",
       "      <td>-1</td>\n",
       "      <td>...</td>\n",
       "      <td>NaN</td>\n",
       "      <td>0.0</td>\n",
       "      <td>0.000000</td>\n",
       "      <td>-100.0</td>\n",
       "      <td>0.0</td>\n",
       "      <td>NaN</td>\n",
       "      <td>NaN</td>\n",
       "      <td>-0.018636</td>\n",
       "      <td>-0.018638</td>\n",
       "      <td>-0.074502</td>\n",
       "    </tr>\n",
       "    <tr>\n",
       "      <th>3</th>\n",
       "      <td>3</td>\n",
       "      <td>1971.01.07</td>\n",
       "      <td>00:00</td>\n",
       "      <td>0.5368</td>\n",
       "      <td>0.5368</td>\n",
       "      <td>0.5368</td>\n",
       "      <td>0.5368</td>\n",
       "      <td>1</td>\n",
       "      <td>0.0</td>\n",
       "      <td>0</td>\n",
       "      <td>...</td>\n",
       "      <td>NaN</td>\n",
       "      <td>75.0</td>\n",
       "      <td>25.000000</td>\n",
       "      <td>-25.0</td>\n",
       "      <td>0.0</td>\n",
       "      <td>NaN</td>\n",
       "      <td>NaN</td>\n",
       "      <td>0.055918</td>\n",
       "      <td>0.055902</td>\n",
       "      <td>-0.018625</td>\n",
       "    </tr>\n",
       "    <tr>\n",
       "      <th>4</th>\n",
       "      <td>4</td>\n",
       "      <td>1971.01.08</td>\n",
       "      <td>00:00</td>\n",
       "      <td>0.5371</td>\n",
       "      <td>0.5371</td>\n",
       "      <td>0.5371</td>\n",
       "      <td>0.5371</td>\n",
       "      <td>1</td>\n",
       "      <td>0.0</td>\n",
       "      <td>1</td>\n",
       "      <td>...</td>\n",
       "      <td>NaN</td>\n",
       "      <td>100.0</td>\n",
       "      <td>58.333333</td>\n",
       "      <td>-0.0</td>\n",
       "      <td>0.0</td>\n",
       "      <td>NaN</td>\n",
       "      <td>NaN</td>\n",
       "      <td>0.055887</td>\n",
       "      <td>0.055871</td>\n",
       "      <td>0.037251</td>\n",
       "    </tr>\n",
       "  </tbody>\n",
       "</table>\n",
       "<p>5 rows × 81 columns</p>\n",
       "</div>"
      ],
      "text/plain": [
       "   Unnamed: 0        Date   Time    Open    High     Low   Close  Volume  \\\n",
       "0           0  1971.01.04  00:00  0.5369  0.5369  0.5369  0.5369       1   \n",
       "1           1  1971.01.05  00:00  0.5366  0.5366  0.5366  0.5366       1   \n",
       "2           2  1971.01.06  00:00  0.5365  0.5365  0.5365  0.5365       1   \n",
       "3           3  1971.01.07  00:00  0.5368  0.5368  0.5368  0.5368       1   \n",
       "4           4  1971.01.08  00:00  0.5371  0.5371  0.5371  0.5371       1   \n",
       "\n",
       "   volume_adi  volume_obv  ...  momentum_uo  momentum_stoch  \\\n",
       "0         0.0           1  ...          NaN             NaN   \n",
       "1         0.0           0  ...          NaN             0.0   \n",
       "2         0.0          -1  ...          NaN             0.0   \n",
       "3         0.0           0  ...          NaN            75.0   \n",
       "4         0.0           1  ...          NaN           100.0   \n",
       "\n",
       "   momentum_stoch_signal  momentum_wr  momentum_ao  momentum_kama  \\\n",
       "0                    NaN          NaN          0.0            NaN   \n",
       "1               0.000000       -100.0          0.0            NaN   \n",
       "2               0.000000       -100.0          0.0            NaN   \n",
       "3              25.000000        -25.0          0.0            NaN   \n",
       "4              58.333333         -0.0          0.0            NaN   \n",
       "\n",
       "   momentum_roc  others_dr  others_dlr  others_cr  \n",
       "0           NaN -49.990122         NaN   0.000000  \n",
       "1           NaN  -0.055876   -0.055892  -0.055876  \n",
       "2           NaN  -0.018636   -0.018638  -0.074502  \n",
       "3           NaN   0.055918    0.055902  -0.018625  \n",
       "4           NaN   0.055887    0.055871   0.037251  \n",
       "\n",
       "[5 rows x 81 columns]"
      ]
     },
     "execution_count": 2,
     "metadata": {},
     "output_type": "execute_result"
    }
   ],
   "source": [
    "dt = pd.read_csv(\"EURUSD_1d_output_with_null_value.csv\")\n",
    "dt.head()"
   ]
  },
  {
   "cell_type": "markdown",
   "metadata": {},
   "source": [
    "Now we choose close time as our forecasting target."
   ]
  },
  {
   "cell_type": "code",
   "execution_count": 3,
   "metadata": {},
   "outputs": [
    {
     "data": {
      "text/plain": [
       "Date\n",
       "1971-01-04    0.5369\n",
       "1971-01-05    0.5366\n",
       "1971-01-06    0.5365\n",
       "1971-01-07    0.5368\n",
       "1971-01-08    0.5371\n",
       "Freq: D, Name: Close, dtype: float64"
      ]
     },
     "execution_count": 3,
     "metadata": {},
     "output_type": "execute_result"
    }
   ],
   "source": [
    "close = dt.Close\n",
    "close.index = pd.DatetimeIndex(dt.Date).to_period('D')\n",
    "close.head()"
   ]
  },
  {
   "cell_type": "markdown",
   "metadata": {},
   "source": [
    "We choose the data after 2017."
   ]
  },
  {
   "cell_type": "code",
   "execution_count": 4,
   "metadata": {},
   "outputs": [
    {
     "data": {
      "image/png": "[encoded data removed]",
      "text/plain": [
       "<Figure size 432x288 with 1 Axes>"
      ]
     },
     "metadata": {
      "needs_background": "light"
     },
     "output_type": "display_data"
    }
   ],
   "source": [
    "closeafter2019 = close['2019':]\n",
    "plt.plot(closeafter2019.values)\n",
    "plt.show()"
   ]
  },
  {
   "cell_type": "code",
   "execution_count": 5,
   "metadata": {},
   "outputs": [
    {
     "data": {
      "image/png": "[encoded data removed]",
      "text/plain": [
       "<Figure size 432x288 with 1 Axes>"
      ]
     },
     "metadata": {
      "needs_background": "light"
     },
     "output_type": "display_data"
    }
   ],
   "source": [
    "def difference(dataset, interval=1):\n",
    "    diff = list()\n",
    "    for i in range(interval, len(dataset)):\n",
    "        value = dataset[i] - dataset[i - interval]\n",
    "        diff.append(value)\n",
    "    return diff\n",
    "diff = difference(closeafter2019)\n",
    "plt.plot(diff)\n",
    "plt.show()"
   ]
  },
  {
   "cell_type": "code",
   "execution_count": 6,
   "metadata": {},
   "outputs": [
    {
     "data": {
      "image/png": "[encoded data removed]",
      "text/plain": [
       "<Figure size 432x288 with 1 Axes>"
      ]
     },
     "execution_count": 6,
     "metadata": {},
     "output_type": "execute_result"
    },
    {
     "data": {
      "image/png": "[encoded data removed]",
      "text/plain": [
       "<Figure size 432x288 with 1 Axes>"
      ]
     },
     "metadata": {
      "needs_background": "light"
     },
     "output_type": "display_data"
    }
   ],
   "source": [
    "plot_acf(diff, use_vlines = True, lags = 30)"
   ]
  },
  {
   "cell_type": "code",
   "execution_count": 7,
   "metadata": {},
   "outputs": [
    {
     "data": {
      "image/png": "[encoded data removed]",
      "text/plain": [
       "<Figure size 432x288 with 1 Axes>"
      ]
     },
     "execution_count": 7,
     "metadata": {},
     "output_type": "execute_result"
    },
    {
     "data": {
      "image/png": "[encoded data removed]",
      "text/plain": [
       "<Figure size 432x288 with 1 Axes>"
      ]
     },
     "metadata": {
      "needs_background": "light"
     },
     "output_type": "display_data"
    }
   ],
   "source": [
    "plot_pacf(diff, use_vlines = True, lags = 30)"
   ]
  },
  {
   "cell_type": "code",
   "execution_count": 8,
   "metadata": {},
   "outputs": [
    {
     "name": "stdout",
     "output_type": "stream",
     "text": [
      "   Augmented Dickey-Fuller Results   \n",
      "=====================================\n",
      "Test Statistic                 -1.853\n",
      "P-value                         0.354\n",
      "Lags                                8\n",
      "-------------------------------------\n",
      "\n",
      "Trend: Constant\n",
      "Critical Values: -3.45 (1%), -2.87 (5%), -2.57 (10%)\n",
      "Null Hypothesis: The process contains a unit root.\n",
      "Alternative Hypothesis: The process is weakly stationary.\n"
     ]
    }
   ],
   "source": [
    "steps = 15\n",
    "EURUSDRetTrainDiff, EURUSDRetTestDiff = closeafter2019[0:-steps], closeafter2019[-steps:]\n",
    "print(ADF(EURUSDRetTrainDiff, max_lags = 10).summary().as_text())"
   ]
  },
  {
   "cell_type": "code",
   "execution_count": 9,
   "metadata": {},
   "outputs": [
    {
     "data": {
      "text/html": [
       "<table class=\"simpletable\">\n",
       "<caption>ARIMA Model Results</caption>\n",
       "<tr>\n",
       "  <th>Dep. Variable:</th>      <td>D.Close</td>     <th>  No. Observations:  </th>    <td>324</td>   \n",
       "</tr>\n",
       "<tr>\n",
       "  <th>Model:</th>          <td>ARIMA(1, 1, 1)</td>  <th>  Log Likelihood     </th> <td>1302.692</td> \n",
       "</tr>\n",
       "<tr>\n",
       "  <th>Method:</th>             <td>css-mle</td>     <th>  S.D. of innovations</th>   <td>0.004</td>  \n",
       "</tr>\n",
       "<tr>\n",
       "  <th>Date:</th>          <td>Sun, 31 May 2020</td> <th>  AIC                </th> <td>-2597.383</td>\n",
       "</tr>\n",
       "<tr>\n",
       "  <th>Time:</th>              <td>17:10:49</td>     <th>  BIC                </th> <td>-2582.260</td>\n",
       "</tr>\n",
       "<tr>\n",
       "  <th>Sample:</th>           <td>01-03-2019</td>    <th>  HQIC               </th> <td>-2591.347</td>\n",
       "</tr>\n",
       "<tr>\n",
       "  <th></th>                 <td>- 04-02-2020</td>   <th>                     </th>     <td> </td>    \n",
       "</tr>\n",
       "</table>\n",
       "<table class=\"simpletable\">\n",
       "<tr>\n",
       "        <td></td>           <th>coef</th>     <th>std err</th>      <th>z</th>      <th>P>|z|</th>  <th>[0.025</th>    <th>0.975]</th>  \n",
       "</tr>\n",
       "<tr>\n",
       "  <th>const</th>         <td>   -0.0002</td> <td>    0.000</td> <td>   -0.530</td> <td> 0.596</td> <td>   -0.001</td> <td>    0.000</td>\n",
       "</tr>\n",
       "<tr>\n",
       "  <th>ar.L1.D.Close</th> <td>    0.4685</td> <td>    0.181</td> <td>    2.595</td> <td> 0.009</td> <td>    0.115</td> <td>    0.822</td>\n",
       "</tr>\n",
       "<tr>\n",
       "  <th>ma.L1.D.Close</th> <td>   -0.3560</td> <td>    0.185</td> <td>   -1.926</td> <td> 0.054</td> <td>   -0.718</td> <td>    0.006</td>\n",
       "</tr>\n",
       "</table>\n",
       "<table class=\"simpletable\">\n",
       "<caption>Roots</caption>\n",
       "<tr>\n",
       "    <td></td>   <th>            Real</th>  <th>         Imaginary</th> <th>         Modulus</th>  <th>        Frequency</th>\n",
       "</tr>\n",
       "<tr>\n",
       "  <th>AR.1</th> <td>           2.1344</td> <td>          +0.0000j</td> <td>           2.1344</td> <td>           0.0000</td>\n",
       "</tr>\n",
       "<tr>\n",
       "  <th>MA.1</th> <td>           2.8093</td> <td>          +0.0000j</td> <td>           2.8093</td> <td>           0.0000</td>\n",
       "</tr>\n",
       "</table>"
      ],
      "text/plain": [
       "<class 'statsmodels.iolib.summary.Summary'>\n",
       "\"\"\"\n",
       "                             ARIMA Model Results                              \n",
       "==============================================================================\n",
       "Dep. Variable:                D.Close   No. Observations:                  324\n",
       "Model:                 ARIMA(1, 1, 1)   Log Likelihood                1302.692\n",
       "Method:                       css-mle   S.D. of innovations              0.004\n",
       "Date:                Sun, 31 May 2020   AIC                          -2597.383\n",
       "Time:                        17:10:49   BIC                          -2582.260\n",
       "Sample:                    01-03-2019   HQIC                         -2591.347\n",
       "                         - 04-02-2020                                         \n",
       "=================================================================================\n",
       "                    coef    std err          z      P>|z|      [0.025      0.975]\n",
       "---------------------------------------------------------------------------------\n",
       "const            -0.0002      0.000     -0.530      0.596      -0.001       0.000\n",
       "ar.L1.D.Close     0.4685      0.181      2.595      0.009       0.115       0.822\n",
       "ma.L1.D.Close    -0.3560      0.185     -1.926      0.054      -0.718       0.006\n",
       "                                    Roots                                    \n",
       "=============================================================================\n",
       "                  Real          Imaginary           Modulus         Frequency\n",
       "-----------------------------------------------------------------------------\n",
       "AR.1            2.1344           +0.0000j            2.1344            0.0000\n",
       "MA.1            2.8093           +0.0000j            2.8093            0.0000\n",
       "-----------------------------------------------------------------------------\n",
       "\"\"\""
      ]
     },
     "execution_count": 9,
     "metadata": {},
     "output_type": "execute_result"
    }
   ],
   "source": [
    "model1 = ARIMA(EURUSDRetTrainDiff, order = (1,1,1)).fit()\n",
    "model1.summary()"
   ]
  },
  {
   "cell_type": "code",
   "execution_count": 10,
   "metadata": {},
   "outputs": [
    {
     "data": {
      "text/html": [
       "<table class=\"simpletable\">\n",
       "<caption>ARIMA Model Results</caption>\n",
       "<tr>\n",
       "  <th>Dep. Variable:</th>      <td>D.Close</td>     <th>  No. Observations:  </th>    <td>324</td>   \n",
       "</tr>\n",
       "<tr>\n",
       "  <th>Model:</th>          <td>ARIMA(1, 1, 2)</td>  <th>  Log Likelihood     </th> <td>1307.050</td> \n",
       "</tr>\n",
       "<tr>\n",
       "  <th>Method:</th>             <td>css-mle</td>     <th>  S.D. of innovations</th>   <td>0.004</td>  \n",
       "</tr>\n",
       "<tr>\n",
       "  <th>Date:</th>          <td>Sun, 31 May 2020</td> <th>  AIC                </th> <td>-2604.100</td>\n",
       "</tr>\n",
       "<tr>\n",
       "  <th>Time:</th>              <td>17:10:49</td>     <th>  BIC                </th> <td>-2585.197</td>\n",
       "</tr>\n",
       "<tr>\n",
       "  <th>Sample:</th>           <td>01-03-2019</td>    <th>  HQIC               </th> <td>-2596.555</td>\n",
       "</tr>\n",
       "<tr>\n",
       "  <th></th>                 <td>- 04-02-2020</td>   <th>                     </th>     <td> </td>    \n",
       "</tr>\n",
       "</table>\n",
       "<table class=\"simpletable\">\n",
       "<tr>\n",
       "        <td></td>           <th>coef</th>     <th>std err</th>      <th>z</th>      <th>P>|z|</th>  <th>[0.025</th>    <th>0.975]</th>  \n",
       "</tr>\n",
       "<tr>\n",
       "  <th>const</th>         <td>   -0.0002</td> <td>    0.000</td> <td>   -0.527</td> <td> 0.598</td> <td>   -0.001</td> <td>    0.000</td>\n",
       "</tr>\n",
       "<tr>\n",
       "  <th>ar.L1.D.Close</th> <td>   -0.1583</td> <td>    0.237</td> <td>   -0.667</td> <td> 0.505</td> <td>   -0.624</td> <td>    0.307</td>\n",
       "</tr>\n",
       "<tr>\n",
       "  <th>ma.L1.D.Close</th> <td>    0.2481</td> <td>    0.232</td> <td>    1.070</td> <td> 0.285</td> <td>   -0.206</td> <td>    0.703</td>\n",
       "</tr>\n",
       "<tr>\n",
       "  <th>ma.L2.D.Close</th> <td>    0.2139</td> <td>    0.059</td> <td>    3.655</td> <td> 0.000</td> <td>    0.099</td> <td>    0.329</td>\n",
       "</tr>\n",
       "</table>\n",
       "<table class=\"simpletable\">\n",
       "<caption>Roots</caption>\n",
       "<tr>\n",
       "    <td></td>   <th>            Real</th>  <th>         Imaginary</th> <th>         Modulus</th>  <th>        Frequency</th>\n",
       "</tr>\n",
       "<tr>\n",
       "  <th>AR.1</th> <td>          -6.3154</td> <td>          +0.0000j</td> <td>           6.3154</td> <td>           0.5000</td>\n",
       "</tr>\n",
       "<tr>\n",
       "  <th>MA.1</th> <td>          -0.5799</td> <td>          -2.0827j</td> <td>           2.1620</td> <td>          -0.2932</td>\n",
       "</tr>\n",
       "<tr>\n",
       "  <th>MA.2</th> <td>          -0.5799</td> <td>          +2.0827j</td> <td>           2.1620</td> <td>           0.2932</td>\n",
       "</tr>\n",
       "</table>"
      ],
      "text/plain": [
       "<class 'statsmodels.iolib.summary.Summary'>\n",
       "\"\"\"\n",
       "                             ARIMA Model Results                              \n",
       "==============================================================================\n",
       "Dep. Variable:                D.Close   No. Observations:                  324\n",
       "Model:                 ARIMA(1, 1, 2)   Log Likelihood                1307.050\n",
       "Method:                       css-mle   S.D. of innovations              0.004\n",
       "Date:                Sun, 31 May 2020   AIC                          -2604.100\n",
       "Time:                        17:10:49   BIC                          -2585.197\n",
       "Sample:                    01-03-2019   HQIC                         -2596.555\n",
       "                         - 04-02-2020                                         \n",
       "=================================================================================\n",
       "                    coef    std err          z      P>|z|      [0.025      0.975]\n",
       "---------------------------------------------------------------------------------\n",
       "const            -0.0002      0.000     -0.527      0.598      -0.001       0.000\n",
       "ar.L1.D.Close    -0.1583      0.237     -0.667      0.505      -0.624       0.307\n",
       "ma.L1.D.Close     0.2481      0.232      1.070      0.285      -0.206       0.703\n",
       "ma.L2.D.Close     0.2139      0.059      3.655      0.000       0.099       0.329\n",
       "                                    Roots                                    \n",
       "=============================================================================\n",
       "                  Real          Imaginary           Modulus         Frequency\n",
       "-----------------------------------------------------------------------------\n",
       "AR.1           -6.3154           +0.0000j            6.3154            0.5000\n",
       "MA.1           -0.5799           -2.0827j            2.1620           -0.2932\n",
       "MA.2           -0.5799           +2.0827j            2.1620            0.2932\n",
       "-----------------------------------------------------------------------------\n",
       "\"\"\""
      ]
     },
     "execution_count": 10,
     "metadata": {},
     "output_type": "execute_result"
    }
   ],
   "source": [
    "model2 = ARIMA(EURUSDRetTrainDiff, order = (1,1,2)).fit()\n",
    "model2.summary()"
   ]
  },
  {
   "cell_type": "code",
   "execution_count": 11,
   "metadata": {},
   "outputs": [
    {
     "data": {
      "text/html": [
       "<table class=\"simpletable\">\n",
       "<caption>ARIMA Model Results</caption>\n",
       "<tr>\n",
       "  <th>Dep. Variable:</th>      <td>D.Close</td>     <th>  No. Observations:  </th>    <td>324</td>   \n",
       "</tr>\n",
       "<tr>\n",
       "  <th>Model:</th>          <td>ARIMA(1, 1, 3)</td>  <th>  Log Likelihood     </th> <td>1318.063</td> \n",
       "</tr>\n",
       "<tr>\n",
       "  <th>Method:</th>             <td>css-mle</td>     <th>  S.D. of innovations</th>   <td>0.004</td>  \n",
       "</tr>\n",
       "<tr>\n",
       "  <th>Date:</th>          <td>Sun, 31 May 2020</td> <th>  AIC                </th> <td>-2624.126</td>\n",
       "</tr>\n",
       "<tr>\n",
       "  <th>Time:</th>              <td>17:10:50</td>     <th>  BIC                </th> <td>-2601.441</td>\n",
       "</tr>\n",
       "<tr>\n",
       "  <th>Sample:</th>           <td>01-03-2019</td>    <th>  HQIC               </th> <td>-2615.072</td>\n",
       "</tr>\n",
       "<tr>\n",
       "  <th></th>                 <td>- 04-02-2020</td>   <th>                     </th>     <td> </td>    \n",
       "</tr>\n",
       "</table>\n",
       "<table class=\"simpletable\">\n",
       "<tr>\n",
       "        <td></td>           <th>coef</th>     <th>std err</th>      <th>z</th>      <th>P>|z|</th>  <th>[0.025</th>    <th>0.975]</th>  \n",
       "</tr>\n",
       "<tr>\n",
       "  <th>const</th>         <td>   -0.0001</td> <td> 1.99e-05</td> <td>   -6.550</td> <td> 0.000</td> <td>   -0.000</td> <td>-9.12e-05</td>\n",
       "</tr>\n",
       "<tr>\n",
       "  <th>ar.L1.D.Close</th> <td>    0.8333</td> <td>    0.038</td> <td>   22.146</td> <td> 0.000</td> <td>    0.760</td> <td>    0.907</td>\n",
       "</tr>\n",
       "<tr>\n",
       "  <th>ma.L1.D.Close</th> <td>   -0.8313</td> <td>    0.062</td> <td>  -13.348</td> <td> 0.000</td> <td>   -0.953</td> <td>   -0.709</td>\n",
       "</tr>\n",
       "<tr>\n",
       "  <th>ma.L2.D.Close</th> <td>    0.0919</td> <td>    0.072</td> <td>    1.285</td> <td> 0.199</td> <td>   -0.048</td> <td>    0.232</td>\n",
       "</tr>\n",
       "<tr>\n",
       "  <th>ma.L3.D.Close</th> <td>   -0.2605</td> <td>    0.057</td> <td>   -4.560</td> <td> 0.000</td> <td>   -0.373</td> <td>   -0.149</td>\n",
       "</tr>\n",
       "</table>\n",
       "<table class=\"simpletable\">\n",
       "<caption>Roots</caption>\n",
       "<tr>\n",
       "    <td></td>   <th>            Real</th>  <th>         Imaginary</th> <th>         Modulus</th>  <th>        Frequency</th>\n",
       "</tr>\n",
       "<tr>\n",
       "  <th>AR.1</th> <td>           1.2000</td> <td>          +0.0000j</td> <td>           1.2000</td> <td>           0.0000</td>\n",
       "</tr>\n",
       "<tr>\n",
       "  <th>MA.1</th> <td>           1.0000</td> <td>          -0.0000j</td> <td>           1.0000</td> <td>          -0.0000</td>\n",
       "</tr>\n",
       "<tr>\n",
       "  <th>MA.2</th> <td>          -0.3236</td> <td>          -1.9321j</td> <td>           1.9591</td> <td>          -0.2764</td>\n",
       "</tr>\n",
       "<tr>\n",
       "  <th>MA.3</th> <td>          -0.3236</td> <td>          +1.9321j</td> <td>           1.9591</td> <td>           0.2764</td>\n",
       "</tr>\n",
       "</table>"
      ],
      "text/plain": [
       "<class 'statsmodels.iolib.summary.Summary'>\n",
       "\"\"\"\n",
       "                             ARIMA Model Results                              \n",
       "==============================================================================\n",
       "Dep. Variable:                D.Close   No. Observations:                  324\n",
       "Model:                 ARIMA(1, 1, 3)   Log Likelihood                1318.063\n",
       "Method:                       css-mle   S.D. of innovations              0.004\n",
       "Date:                Sun, 31 May 2020   AIC                          -2624.126\n",
       "Time:                        17:10:50   BIC                          -2601.441\n",
       "Sample:                    01-03-2019   HQIC                         -2615.072\n",
       "                         - 04-02-2020                                         \n",
       "=================================================================================\n",
       "                    coef    std err          z      P>|z|      [0.025      0.975]\n",
       "---------------------------------------------------------------------------------\n",
       "const            -0.0001   1.99e-05     -6.550      0.000      -0.000   -9.12e-05\n",
       "ar.L1.D.Close     0.8333      0.038     22.146      0.000       0.760       0.907\n",
       "ma.L1.D.Close    -0.8313      0.062    -13.348      0.000      -0.953      -0.709\n",
       "ma.L2.D.Close     0.0919      0.072      1.285      0.199      -0.048       0.232\n",
       "ma.L3.D.Close    -0.2605      0.057     -4.560      0.000      -0.373      -0.149\n",
       "                                    Roots                                    \n",
       "=============================================================================\n",
       "                  Real          Imaginary           Modulus         Frequency\n",
       "-----------------------------------------------------------------------------\n",
       "AR.1            1.2000           +0.0000j            1.2000            0.0000\n",
       "MA.1            1.0000           -0.0000j            1.0000           -0.0000\n",
       "MA.2           -0.3236           -1.9321j            1.9591           -0.2764\n",
       "MA.3           -0.3236           +1.9321j            1.9591            0.2764\n",
       "-----------------------------------------------------------------------------\n",
       "\"\"\""
      ]
     },
     "execution_count": 11,
     "metadata": {},
     "output_type": "execute_result"
    }
   ],
   "source": [
    "model3 = ARIMA(EURUSDRetTrainDiff, order = (1,1,3)).fit()\n",
    "model3.summary()"
   ]
  },
  {
   "cell_type": "markdown",
   "metadata": {},
   "source": [
    "Here we choose the model with the smallest AIC, which is ARIMA(1,1,3)"
   ]
  },
  {
   "cell_type": "code",
   "execution_count": 12,
   "metadata": {},
   "outputs": [
    {
     "name": "stdout",
     "output_type": "stream",
     "text": [
      "Test MSE: 0.000033\n"
     ]
    }
   ],
   "source": [
    "model = ARIMA(EURUSDRetTrainDiff, order = (1,1,3))\n",
    "model_fit = model.fit()\n",
    "output = model_fit.forecast(steps=steps)\n",
    "error = mean_squared_error(EURUSDRetTestDiff.values, output[0])\n",
    "print('Test MSE: %f' % error)"
   ]
  },
  {
   "cell_type": "code",
   "execution_count": 13,
   "metadata": {},
   "outputs": [
    {
     "data": {
      "image/png": "[encoded data removed]",
      "text/plain": [
       "<Figure size 432x288 with 1 Axes>"
      ]
     },
     "metadata": {
      "needs_background": "light"
     },
     "output_type": "display_data"
    }
   ],
   "source": [
    "plt.plot(EURUSDRetTestDiff.values, label = 'Expected')\n",
    "plt.plot(output[0], label = 'Predicted')\n",
    "plt.legend()\n",
    "plt.show()"
   ]
  }
 ],
 "metadata": {
  "kernelspec": {
   "display_name": "Python 3",
   "language": "python",
   "name": "python3"
  },
  "language_info": {
   "codemirror_mode": {
    "name": "ipython",
    "version": 3
   },
   "file_extension": ".py",
   "mimetype": "text/x-python",
   "name": "python",
   "nbconvert_exporter": "python",
   "pygments_lexer": "ipython3",
   "version": "3.7.7"
  }
 },
 "nbformat": 4,
 "nbformat_minor": 4
}
